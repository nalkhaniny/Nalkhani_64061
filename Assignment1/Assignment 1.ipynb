{
  "nbformat": 4,
  "nbformat_minor": 0,
  "metadata": {
    "colab": {
      "name": "Untitled0.ipynb",
      "provenance": [],
      "collapsed_sections": []
    },
    "kernelspec": {
      "name": "python3",
      "display_name": "Python 3"
    },
    "language_info": {
      "name": "python"
    }
  },
  "cells": [
    {
      "cell_type": "markdown",
      "metadata": {
        "id": "Skhdg7dzdeyP"
      },
      "source": [
        "**Assignment 1**\n",
        "\n",
        "**Neural Network**\n",
        "\n",
        "**Noorah Alkhaniny**\n",
        "\n",
        "Directions In this assignment, you will accomplish the following:\n",
        "\n",
        "1.Modify an existing neural network model to improve performance\n",
        "\n",
        "2.Explain how different approaches affect the performance of the model For the IMDB example that we discussed in class, do the following:\n",
        "\n",
        "1.You used two hidden layers. Try using one or three hidden layers, and see how doing so affects validation and test accuracy.\n",
        "\n",
        "2.Try using layers with more hidden units or fewer hidden units: 32 units, 64 units, and so on.\n",
        "\n",
        "3.Try using the mse loss function instead ofbinary_crossentropy.\n",
        "\n",
        "4.Try using the tanh activation (an activation that was popular in the early days of neural networks) instead of relu.\n",
        "\n",
        "5.Use any technique we studied in class, and these include regularization, dropout, etc., to get your model to perform better on validation."
      ]
    },
    {
      "cell_type": "markdown",
      "metadata": {
        "id": "qDrB1DVdukDc"
      },
      "source": [
        "**Adding libraries**"
      ]
    },
    {
      "cell_type": "code",
      "metadata": {
        "id": "EJx3kAujt5bF"
      },
      "source": [
        "import matplotlib \n",
        "import matplotlib.pyplot as plt\n",
        "import numpy as np\n",
        "from keras import models\n",
        "from keras import layers"
      ],
      "execution_count": 1,
      "outputs": []
    },
    {
      "cell_type": "markdown",
      "metadata": {
        "id": "Jcwe8V1ngp9p"
      },
      "source": [
        "**Importing the dataset**"
      ]
    },
    {
      "cell_type": "code",
      "metadata": {
        "id": "XL6bQKx-dG7Z"
      },
      "source": [
        "from tensorflow.keras.datasets import imdb\n",
        "(train_data, train_labels), (test_data, test_labels) = imdb.load_data(\n",
        "    num_words=10000)\n"
      ],
      "execution_count": null,
      "outputs": []
    },
    {
      "cell_type": "code",
      "metadata": {
        "id": "uTWZvPyDgwAg"
      },
      "source": [
        "train_labels[0]"
      ],
      "execution_count": null,
      "outputs": []
    },
    {
      "cell_type": "code",
      "metadata": {
        "id": "xM_5RrGEdUXl"
      },
      "source": [
        "train_data[0]"
      ],
      "execution_count": null,
      "outputs": []
    },
    {
      "cell_type": "code",
      "metadata": {
        "colab": {
          "base_uri": "https://localhost:8080/"
        },
        "id": "BT4Cg1wbrB7S",
        "outputId": "aa34c6ef-d020-497b-f990-d1d4c7d0d147"
      },
      "source": [
        "word_index = imdb.get_word_index()\n",
        "reverse_word_index = dict(\n",
        "    [(value, key) for (key, value) in word_index.items()])\n",
        "decoded_review = \" \".join(\n",
        "    [reverse_word_index.get(i - 3, \"?\") for i in train_data[0]])"
      ],
      "execution_count": 5,
      "outputs": [
        {
          "output_type": "stream",
          "name": "stdout",
          "text": [
            "Downloading data from https://storage.googleapis.com/tensorflow/tf-keras-datasets/imdb_word_index.json\n",
            "1646592/1641221 [==============================] - 0s 0us/step\n",
            "1654784/1641221 [==============================] - 0s 0us/step\n"
          ]
        }
      ]
    },
    {
      "cell_type": "code",
      "metadata": {
        "id": "NtHtpp5nrGR-"
      },
      "source": [
        "def vectorize_sequences(sequences, dimension=10000):\n",
        "    results = np.zeros((len(sequences), dimension))\n",
        "    for i, sequence in enumerate(sequences):\n",
        "        for j in sequence:\n",
        "            results[i, j] = 1.\n",
        "    return results\n",
        "x_train = vectorize_sequences(train_data)\n",
        "x_test = vectorize_sequences(test_data)"
      ],
      "execution_count": 6,
      "outputs": []
    },
    {
      "cell_type": "code",
      "metadata": {
        "id": "6DSqjbr-rMhZ"
      },
      "source": [
        "y_train = np.asarray(train_labels).astype(\"float32\")\n",
        "y_test = np.asarray(test_labels).astype(\"float32\")"
      ],
      "execution_count": 7,
      "outputs": []
    },
    {
      "cell_type": "code",
      "metadata": {
        "colab": {
          "base_uri": "https://localhost:8080/"
        },
        "id": "hqaD_EAMrJpL",
        "outputId": "b12bfa9d-51f2-497a-81d9-fee8a771ee26"
      },
      "source": [
        "x_train[0]"
      ],
      "execution_count": 8,
      "outputs": [
        {
          "output_type": "execute_result",
          "data": {
            "text/plain": [
              "array([0., 1., 1., ..., 0., 0., 0.])"
            ]
          },
          "metadata": {},
          "execution_count": 8
        }
      ]
    },
    {
      "cell_type": "markdown",
      "metadata": {
        "id": "QjeDPVsvwXSW"
      },
      "source": [
        "**Model Structure**"
      ]
    },
    {
      "cell_type": "code",
      "metadata": {
        "id": "xTwbuQnWrP2u"
      },
      "source": [
        "from tensorflow import keras\n",
        "from tensorflow.keras import layers\n",
        "\n",
        "model = keras.Sequential([\n",
        "    layers.Dense(16, activation=\"relu\"),\n",
        "    layers.Dense(16, activation=\"relu\"),\n",
        "    layers.Dense(1, activation=\"sigmoid\")\n",
        "])"
      ],
      "execution_count": 9,
      "outputs": []
    },
    {
      "cell_type": "code",
      "metadata": {
        "id": "-Foda3gSroz1"
      },
      "source": [
        "model.compile(optimizer=\"adam\",\n",
        "              loss=\"binary_crossentropy\",\n",
        "              metrics=[\"accuracy\"])"
      ],
      "execution_count": 10,
      "outputs": []
    },
    {
      "cell_type": "code",
      "metadata": {
        "id": "gpMkObIGrVZa"
      },
      "source": [
        "x_val = x_train[:10000]\n",
        "partial_x_train = x_train[10000:]\n",
        "y_val = y_train[:10000]\n",
        "partial_y_train = y_train[10000:]\n"
      ],
      "execution_count": 11,
      "outputs": []
    },
    {
      "cell_type": "code",
      "metadata": {
        "id": "7M4Bvs5trwA8"
      },
      "source": [
        "history = model.fit(partial_x_train,\n",
        "                    partial_y_train,\n",
        "                    epochs=20,\n",
        "                    batch_size=512,\n",
        "                    validation_data=(x_val, y_val))"
      ],
      "execution_count": null,
      "outputs": []
    },
    {
      "cell_type": "markdown",
      "metadata": {
        "id": "1By9O3U5woAM"
      },
      "source": [
        "**Plotting the training and validation loss**"
      ]
    },
    {
      "cell_type": "code",
      "metadata": {
        "id": "pl_bVk7Cr5yN"
      },
      "source": [
        "history_dict = history.history\n",
        "loss_values = history_dict[\"loss\"]\n",
        "val_loss_values = history_dict[\"val_loss\"]\n",
        "epochs = range(1, len(loss_values) + 1)\n",
        "plt.plot(epochs, loss_values, \"bo\", label=\"Training loss\")\n",
        "plt.plot(epochs, val_loss_values, \"b\", label=\"Validation loss\")\n",
        "plt.title(\"Training and validation loss\")\n",
        "plt.xlabel(\"Epochs\")\n",
        "plt.ylabel(\"Loss\")\n",
        "plt.legend()\n",
        "plt.show()"
      ],
      "execution_count": null,
      "outputs": []
    },
    {
      "cell_type": "markdown",
      "metadata": {
        "id": "7QqU5eiUyWJ7"
      },
      "source": [
        "*1. You used two hidden layers. Try using one or three hidden layers, and see how doing so affects validation and test accuracy.*"
      ]
    },
    {
      "cell_type": "code",
      "metadata": {
        "id": "6MaKMiYQyu-D"
      },
      "source": [
        "model1 = keras.Sequential([\n",
        "    layers.Dense(16, activation=\"relu\"),\n",
        "    layers.Dense(16, activation=\"relu\"),\n",
        "    layers.Dense(16, activation=\"relu\"),\n",
        "    layers.Dense(1, activation=\"sigmoid\")\n",
        "])\n",
        "\n",
        "model1_1 = keras.Sequential([\n",
        "    layers.Dense(16, activation=\"relu\"),\n",
        "    layers.Dense(1, activation=\"sigmoid\")\n",
        "])"
      ],
      "execution_count": 36,
      "outputs": []
    },
    {
      "cell_type": "code",
      "metadata": {
        "id": "FyYqHibW2NG7"
      },
      "source": [
        "model1.compile(optimizer=\"adam\",\n",
        "              loss=\"binary_crossentropy\",\n",
        "              metrics=[\"accuracy\"])\n",
        "\n",
        "model1_1.compile(optimizer=\"adam\",\n",
        "              loss=\"binary_crossentropy\",\n",
        "              metrics=[\"accuracy\"])"
      ],
      "execution_count": 37,
      "outputs": []
    },
    {
      "cell_type": "code",
      "metadata": {
        "id": "--QC2DRU2aYd"
      },
      "source": [
        "history1 = model1.fit(partial_x_train,\n",
        "                    partial_y_train,\n",
        "                    epochs=20,\n",
        "                    batch_size=512,\n",
        "                    validation_data=(x_val, y_val))\n",
        "\n",
        "history1_1 = model1.fit(partial_x_train,\n",
        "                    partial_y_train,\n",
        "                    epochs=20,\n",
        "                    batch_size=512,\n",
        "                    validation_data=(x_val, y_val))"
      ],
      "execution_count": null,
      "outputs": []
    },
    {
      "cell_type": "code",
      "metadata": {
        "id": "jbrjSo4W3tOF"
      },
      "source": [
        "historyp1 = history1.history\n",
        "historyp1_1 = history1_1.history\n",
        "\n",
        "plt.plot(history1.history['val_loss'], 'r', history1_1.history['val_loss'], 'b')\n",
        "plt.title(\"Training and validation loss\")\n",
        "plt.xlabel('Epochs')\n",
        "plt.ylabel('Validation score')\n",
        "plt.show()\n",
        "\n",
        "plt.clf()\n",
        "acc = historyp1[\"accuracy\"]\n",
        "val_acc = historyp1[\"val_accuracy\"]\n",
        "plt.plot(epochs, acc, \"bo\", label=\"Training acc\")\n",
        "plt.plot(epochs, val_acc, \"b\", label=\"Validation acc\")\n",
        "plt.title(\"Training and validation accuracy\")\n",
        "plt.xlabel(\"Epochs\")\n",
        "plt.ylabel(\"Accuracy\")\n",
        "plt.legend()\n",
        "plt.show()"
      ],
      "execution_count": null,
      "outputs": []
    },
    {
      "cell_type": "markdown",
      "metadata": {
        "id": "sW27OFH8488X"
      },
      "source": [
        "*2.Try using layers with more hidden units or fewer hidden units: 32 units, 64 units, and so on.*\n"
      ]
    },
    {
      "cell_type": "code",
      "metadata": {
        "id": "CQLYiwS13tIk"
      },
      "source": [
        "model2 = keras.Sequential([\n",
        "    layers.Dense(32, activation=\"relu\"),\n",
        "    layers.Dense(64, activation=\"relu\"),\n",
        "    layers.Dense(1, activation=\"sigmoid\")\n",
        "])"
      ],
      "execution_count": 22,
      "outputs": []
    },
    {
      "cell_type": "code",
      "metadata": {
        "id": "5hcIlw773tFy"
      },
      "source": [
        "model2.compile(optimizer=\"adam\",\n",
        "              loss=\"binary_crossentropy\",\n",
        "              metrics=[\"accuracy\"])"
      ],
      "execution_count": 23,
      "outputs": []
    },
    {
      "cell_type": "code",
      "metadata": {
        "id": "i_tO-vfJ3tDK"
      },
      "source": [
        "history2 = model3.fit(partial_x_train,\n",
        "                    partial_y_train,\n",
        "                    epochs=20,\n",
        "                    batch_size=512,\n",
        "                    validation_data=(x_val, y_val))\n"
      ],
      "execution_count": null,
      "outputs": []
    },
    {
      "cell_type": "markdown",
      "metadata": {
        "id": "-dce-S5MWBUC"
      },
      "source": [
        "**Ploting:**"
      ]
    },
    {
      "cell_type": "code",
      "metadata": {
        "id": "jJcJ--D83tAI"
      },
      "source": [
        "historyp2 = history2.history\n",
        "loss_values = historyp2[\"loss\"]\n",
        "val_loss_values = historyp2[\"val_loss\"]\n",
        "epochs = range(1, len(loss_values) + 1)\n",
        "plt.plot(epochs, loss_values, \"bo\", label=\"Training loss\")\n",
        "plt.plot(epochs, val_loss_values, \"b\", label=\"Validation loss\")\n",
        "plt.title(\"Training and validation loss\")\n",
        "plt.xlabel(\"Epochs\")\n",
        "plt.ylabel(\"Loss\")\n",
        "plt.legend()\n",
        "plt.show()\n",
        "\n",
        "plt.clf()\n",
        "acc = historyp2[\"accuracy\"]\n",
        "val_acc = historyp2[\"val_accuracy\"]\n",
        "plt.plot(epochs, acc, \"bo\", label=\"Training acc\")\n",
        "plt.plot(epochs, val_acc, \"b\", label=\"Validation acc\")\n",
        "plt.title(\"Training and validation accuracy\")\n",
        "plt.xlabel(\"Epochs\")\n",
        "plt.ylabel(\"Accuracy\")\n",
        "plt.legend()\n",
        "plt.show()"
      ],
      "execution_count": null,
      "outputs": []
    },
    {
      "cell_type": "markdown",
      "metadata": {
        "id": "TqDX6c-z5qUv"
      },
      "source": [
        "\n",
        "*3.Try using the mse loss function instead of binary_crossentropy.*\n"
      ]
    },
    {
      "cell_type": "code",
      "metadata": {
        "id": "IQ-Vsl4m57jT"
      },
      "source": [
        "model3 = keras.Sequential([\n",
        "    layers.Dense(16, activation=\"relu\"),\n",
        "    layers.Dense(16, activation=\"relu\"),\n",
        "    layers.Dense(1, activation=\"sigmoid\")\n",
        "])"
      ],
      "execution_count": 44,
      "outputs": []
    },
    {
      "cell_type": "code",
      "metadata": {
        "id": "zec84t_-3s91"
      },
      "source": [
        "model3.compile(optimizer=\"adam\",\n",
        "              loss=\"mse\",\n",
        "              metrics=[\"accuracy\"])"
      ],
      "execution_count": 45,
      "outputs": []
    },
    {
      "cell_type": "code",
      "metadata": {
        "id": "zlx5iwSa3s7S"
      },
      "source": [
        "history3 = model3.fit(partial_x_train,\n",
        "                    partial_y_train,\n",
        "                    epochs=20,\n",
        "                    batch_size=512,\n",
        "                    validation_data=(x_val, y_val))"
      ],
      "execution_count": null,
      "outputs": []
    },
    {
      "cell_type": "markdown",
      "metadata": {
        "id": "yjDYanshZW6j"
      },
      "source": [
        "**Ploting:**"
      ]
    },
    {
      "cell_type": "code",
      "metadata": {
        "colab": {
          "base_uri": "https://localhost:8080/",
          "height": 573
        },
        "id": "ojmkDJZ93s4W",
        "outputId": "8dbbdc7a-57ae-41d7-a074-379956dc6362"
      },
      "source": [
        "historyp3 = history3.history\n",
        "loss_values = historyp3[\"loss\"]\n",
        "val_loss_values = historyp3[\"val_loss\"]\n",
        "epochs = range(1, len(loss_values) + 1)\n",
        "plt.plot(epochs, loss_values, \"bo\", label=\"Training loss\")\n",
        "plt.plot(epochs, val_loss_values, \"b\", label=\"Validation loss\")\n",
        "plt.title(\"Training and validation loss\")\n",
        "plt.xlabel(\"Epochs\")\n",
        "plt.ylabel(\"Loss\")\n",
        "plt.legend()\n",
        "plt.show()\n",
        "\n",
        "\n",
        "\n",
        "plt.clf()\n",
        "acc = historyp3[\"accuracy\"]\n",
        "val_acc = historyp3[\"val_accuracy\"]\n",
        "plt.plot(epochs, acc, \"bo\", label=\"Training acc\")\n",
        "plt.plot(epochs, val_acc, \"b\", label=\"Validation acc\")\n",
        "plt.title(\"Training and validation accuracy\")\n",
        "plt.xlabel(\"Epochs\")\n",
        "plt.ylabel(\"Accuracy\")\n",
        "plt.legend()\n",
        "plt.show()"
      ],
      "execution_count": 49,
      "outputs": [
        {
          "output_type": "display_data",
          "data": {
            "image/png": "[encoded data removed]",
            "text/plain": [
              "<Figure size 432x288 with 1 Axes>"
            ]
          },
          "metadata": {
            "needs_background": "light"
          }
        },
        {
          "output_type": "display_data",
          "data": {
            "image/png": "[encoded data removed]",
            "text/plain": [
              "<Figure size 432x288 with 1 Axes>"
            ]
          },
          "metadata": {
            "needs_background": "light"
          }
        }
      ]
    },
    {
      "cell_type": "markdown",
      "metadata": {
        "id": "PXjKKRSM5-cF"
      },
      "source": [
        "*4.Try using the tanh activation (an activation that was popular in the early days of neural networks) instead of relu.*\n"
      ]
    },
    {
      "cell_type": "code",
      "metadata": {
        "id": "vfZgLVs93s1k"
      },
      "source": [
        "model4 = keras.Sequential([\n",
        "    layers.Dense(16, activation=\"tanh\"),\n",
        "    layers.Dense(16, activation=\"tanh\"),\n",
        "    layers.Dense(1, activation=\"sigmoid\")\n",
        "])"
      ],
      "execution_count": 50,
      "outputs": []
    },
    {
      "cell_type": "code",
      "metadata": {
        "id": "SoWPepNd3sy0"
      },
      "source": [
        "model4.compile(optimizer=\"adam\",\n",
        "              loss=\"mse\",\n",
        "              metrics=[\"accuracy\"])"
      ],
      "execution_count": 51,
      "outputs": []
    },
    {
      "cell_type": "code",
      "metadata": {
        "colab": {
          "base_uri": "https://localhost:8080/"
        },
        "id": "dICqG27h3swE",
        "outputId": "565bf174-69c0-4ae7-fb88-3de80c4793b6"
      },
      "source": [
        "history4 = model4.fit(partial_x_train,\n",
        "                    partial_y_train,\n",
        "                    epochs=20,\n",
        "                    batch_size=512,\n",
        "                    validation_data=(x_val, y_val))"
      ],
      "execution_count": 52,
      "outputs": [
        {
          "output_type": "stream",
          "name": "stdout",
          "text": [
            "Epoch 1/20\n",
            "30/30 [==============================] - 1s 37ms/step - loss: 0.1664 - accuracy: 0.7909 - val_loss: 0.1109 - val_accuracy: 0.8672\n",
            "Epoch 2/20\n",
            "30/30 [==============================] - 1s 30ms/step - loss: 0.0777 - accuracy: 0.9113 - val_loss: 0.0867 - val_accuracy: 0.8876\n",
            "Epoch 3/20\n",
            "30/30 [==============================] - 1s 30ms/step - loss: 0.0508 - accuracy: 0.9438 - val_loss: 0.0835 - val_accuracy: 0.8877\n",
            "Epoch 4/20\n",
            "30/30 [==============================] - 1s 29ms/step - loss: 0.0359 - accuracy: 0.9647 - val_loss: 0.0845 - val_accuracy: 0.8861\n",
            "Epoch 5/20\n",
            "30/30 [==============================] - 1s 29ms/step - loss: 0.0262 - accuracy: 0.9780 - val_loss: 0.0873 - val_accuracy: 0.8814\n",
            "Epoch 6/20\n",
            "30/30 [==============================] - 1s 29ms/step - loss: 0.0194 - accuracy: 0.9851 - val_loss: 0.0908 - val_accuracy: 0.8806\n",
            "Epoch 7/20\n",
            "30/30 [==============================] - 1s 29ms/step - loss: 0.0151 - accuracy: 0.9885 - val_loss: 0.0931 - val_accuracy: 0.8764\n",
            "Epoch 8/20\n",
            "30/30 [==============================] - 1s 31ms/step - loss: 0.0116 - accuracy: 0.9917 - val_loss: 0.0958 - val_accuracy: 0.8767\n",
            "Epoch 9/20\n",
            "30/30 [==============================] - 1s 29ms/step - loss: 0.0094 - accuracy: 0.9933 - val_loss: 0.0980 - val_accuracy: 0.8757\n",
            "Epoch 10/20\n",
            "30/30 [==============================] - 1s 30ms/step - loss: 0.0077 - accuracy: 0.9943 - val_loss: 0.0997 - val_accuracy: 0.8736\n",
            "Epoch 11/20\n",
            "30/30 [==============================] - 1s 28ms/step - loss: 0.0066 - accuracy: 0.9949 - val_loss: 0.1011 - val_accuracy: 0.8723\n",
            "Epoch 12/20\n",
            "30/30 [==============================] - 1s 30ms/step - loss: 0.0058 - accuracy: 0.9954 - val_loss: 0.1027 - val_accuracy: 0.8716\n",
            "Epoch 13/20\n",
            "30/30 [==============================] - 1s 29ms/step - loss: 0.0052 - accuracy: 0.9959 - val_loss: 0.1039 - val_accuracy: 0.8708\n",
            "Epoch 14/20\n",
            "30/30 [==============================] - 1s 30ms/step - loss: 0.0047 - accuracy: 0.9963 - val_loss: 0.1051 - val_accuracy: 0.8709\n",
            "Epoch 15/20\n",
            "30/30 [==============================] - 1s 29ms/step - loss: 0.0044 - accuracy: 0.9963 - val_loss: 0.1059 - val_accuracy: 0.8693\n",
            "Epoch 16/20\n",
            "30/30 [==============================] - 1s 29ms/step - loss: 0.0041 - accuracy: 0.9964 - val_loss: 0.1072 - val_accuracy: 0.8671\n",
            "Epoch 17/20\n",
            "30/30 [==============================] - 1s 30ms/step - loss: 0.0040 - accuracy: 0.9965 - val_loss: 0.1083 - val_accuracy: 0.8665\n",
            "Epoch 18/20\n",
            "30/30 [==============================] - 1s 29ms/step - loss: 0.0037 - accuracy: 0.9967 - val_loss: 0.1082 - val_accuracy: 0.8685\n",
            "Epoch 19/20\n",
            "30/30 [==============================] - 1s 30ms/step - loss: 0.0036 - accuracy: 0.9968 - val_loss: 0.1091 - val_accuracy: 0.8668\n",
            "Epoch 20/20\n",
            "30/30 [==============================] - 1s 28ms/step - loss: 0.0034 - accuracy: 0.9969 - val_loss: 0.1093 - val_accuracy: 0.8674\n"
          ]
        }
      ]
    },
    {
      "cell_type": "markdown",
      "metadata": {
        "id": "CNreKJ9RZr6e"
      },
      "source": [
        "**Ploting:**"
      ]
    },
    {
      "cell_type": "code",
      "metadata": {
        "colab": {
          "base_uri": "https://localhost:8080/",
          "height": 573
        },
        "id": "Xvh6_SB-3sof",
        "outputId": "982eead5-0f7c-4ca5-da18-1ec8923a18f0"
      },
      "source": [
        "historyp4 = history4.history\n",
        "loss_values = historyp4[\"loss\"]\n",
        "val_loss_values = historyp4[\"val_loss\"]\n",
        "epochs = range(1, len(loss_values) + 1)\n",
        "plt.plot(epochs, loss_values, \"bo\", label=\"Training loss\")\n",
        "plt.plot(epochs, val_loss_values, \"b\", label=\"Validation loss\")\n",
        "plt.title(\"Training and validation loss\")\n",
        "plt.xlabel(\"Epochs\")\n",
        "plt.ylabel(\"Loss\")\n",
        "plt.legend()\n",
        "plt.show()\n",
        "\n",
        "\n",
        "plt.clf()\n",
        "acc = historyp4[\"accuracy\"]\n",
        "val_acc = historyp4[\"val_accuracy\"]\n",
        "plt.plot(epochs, acc, \"bo\", label=\"Training acc\")\n",
        "plt.plot(epochs, val_acc, \"b\", label=\"Validation acc\")\n",
        "plt.title(\"Training and validation accuracy\")\n",
        "plt.xlabel(\"Epochs\")\n",
        "plt.ylabel(\"Accuracy\")\n",
        "plt.legend()\n",
        "plt.show()"
      ],
      "execution_count": 53,
      "outputs": [
        {
          "output_type": "display_data",
          "data": {
            "image/png": "[encoded data removed]",
            "text/plain": [
              "<Figure size 432x288 with 1 Axes>"
            ]
          },
          "metadata": {
            "needs_background": "light"
          }
        },
        {
          "output_type": "display_data",
          "data": {
            "image/png": "[encoded data removed]",
            "text/plain": [
              "<Figure size 432x288 with 1 Axes>"
            ]
          },
          "metadata": {
            "needs_background": "light"
          }
        }
      ]
    },
    {
      "cell_type": "markdown",
      "metadata": {
        "id": "dfOM2GeeRka-"
      },
      "source": [
        "*5.Use any technique we studied in class, and these include regularization, dropout, etc., to get your model to perform better on validation.*"
      ]
    },
    {
      "cell_type": "code",
      "metadata": {
        "id": "ji3qNYvGaBbn"
      },
      "source": [
        "model5 = keras.Sequential([\n",
        "    layers.Dense(20, activation=\"relu\"),\n",
        "    layers.Dropout(0.2),\n",
        "    layers.Dense(15, activation=\"relu\"),\n",
        "    layers.Dense(1, activation=\"sigmoid\")\n",
        "])"
      ],
      "execution_count": 54,
      "outputs": []
    },
    {
      "cell_type": "code",
      "metadata": {
        "id": "uEcK57Ok3sg2"
      },
      "source": [
        "model5.compile(optimizer=\"adam\",\n",
        "              loss=\"binary_crossentropy\",\n",
        "              metrics=[\"accuracy\"])"
      ],
      "execution_count": 55,
      "outputs": []
    },
    {
      "cell_type": "code",
      "metadata": {
        "colab": {
          "base_uri": "https://localhost:8080/"
        },
        "id": "OFaUb3CIaAvK",
        "outputId": "cda20c7a-31c7-49ca-915c-17641cddefe6"
      },
      "source": [
        "history5 = model5.fit(partial_x_train,\n",
        "                    partial_y_train,\n",
        "                    epochs=20,\n",
        "                    batch_size=512,\n",
        "                    validation_data=(x_val, y_val))"
      ],
      "execution_count": 56,
      "outputs": [
        {
          "output_type": "stream",
          "name": "stdout",
          "text": [
            "Epoch 1/20\n",
            "30/30 [==============================] - 2s 44ms/step - loss: 0.5849 - accuracy: 0.7150 - val_loss: 0.4412 - val_accuracy: 0.8518\n",
            "Epoch 2/20\n",
            "30/30 [==============================] - 1s 34ms/step - loss: 0.3716 - accuracy: 0.8727 - val_loss: 0.3204 - val_accuracy: 0.8809\n",
            "Epoch 3/20\n",
            "30/30 [==============================] - 1s 34ms/step - loss: 0.2613 - accuracy: 0.9108 - val_loss: 0.2843 - val_accuracy: 0.8881\n",
            "Epoch 4/20\n",
            "30/30 [==============================] - 1s 34ms/step - loss: 0.2037 - accuracy: 0.9311 - val_loss: 0.2738 - val_accuracy: 0.8905\n",
            "Epoch 5/20\n",
            "30/30 [==============================] - 1s 32ms/step - loss: 0.1531 - accuracy: 0.9510 - val_loss: 0.2822 - val_accuracy: 0.8874\n",
            "Epoch 6/20\n",
            "30/30 [==============================] - 1s 33ms/step - loss: 0.1199 - accuracy: 0.9634 - val_loss: 0.3041 - val_accuracy: 0.8851\n",
            "Epoch 7/20\n",
            "30/30 [==============================] - 1s 33ms/step - loss: 0.0915 - accuracy: 0.9734 - val_loss: 0.3318 - val_accuracy: 0.8816\n",
            "Epoch 8/20\n",
            "30/30 [==============================] - 1s 34ms/step - loss: 0.0710 - accuracy: 0.9813 - val_loss: 0.3548 - val_accuracy: 0.8813\n",
            "Epoch 9/20\n",
            "30/30 [==============================] - 1s 33ms/step - loss: 0.0548 - accuracy: 0.9865 - val_loss: 0.3811 - val_accuracy: 0.8819\n",
            "Epoch 10/20\n",
            "30/30 [==============================] - 1s 33ms/step - loss: 0.0420 - accuracy: 0.9917 - val_loss: 0.4085 - val_accuracy: 0.8785\n",
            "Epoch 11/20\n",
            "30/30 [==============================] - 1s 33ms/step - loss: 0.0321 - accuracy: 0.9945 - val_loss: 0.4389 - val_accuracy: 0.8792\n",
            "Epoch 12/20\n",
            "30/30 [==============================] - 1s 34ms/step - loss: 0.0266 - accuracy: 0.9963 - val_loss: 0.4605 - val_accuracy: 0.8766\n",
            "Epoch 13/20\n",
            "30/30 [==============================] - 1s 33ms/step - loss: 0.0216 - accuracy: 0.9967 - val_loss: 0.4943 - val_accuracy: 0.8777\n",
            "Epoch 14/20\n",
            "30/30 [==============================] - 1s 33ms/step - loss: 0.0184 - accuracy: 0.9971 - val_loss: 0.5190 - val_accuracy: 0.8751\n",
            "Epoch 15/20\n",
            "30/30 [==============================] - 1s 33ms/step - loss: 0.0150 - accuracy: 0.9983 - val_loss: 0.5441 - val_accuracy: 0.8749\n",
            "Epoch 16/20\n",
            "30/30 [==============================] - 1s 34ms/step - loss: 0.0126 - accuracy: 0.9985 - val_loss: 0.5671 - val_accuracy: 0.8756\n",
            "Epoch 17/20\n",
            "30/30 [==============================] - 1s 34ms/step - loss: 0.0106 - accuracy: 0.9989 - val_loss: 0.5833 - val_accuracy: 0.8751\n",
            "Epoch 18/20\n",
            "30/30 [==============================] - 1s 34ms/step - loss: 0.0097 - accuracy: 0.9986 - val_loss: 0.6038 - val_accuracy: 0.8751\n",
            "Epoch 19/20\n",
            "30/30 [==============================] - 1s 34ms/step - loss: 0.0087 - accuracy: 0.9989 - val_loss: 0.6202 - val_accuracy: 0.8745\n",
            "Epoch 20/20\n",
            "30/30 [==============================] - 1s 34ms/step - loss: 0.0076 - accuracy: 0.9992 - val_loss: 0.6426 - val_accuracy: 0.8739\n"
          ]
        }
      ]
    },
    {
      "cell_type": "markdown",
      "metadata": {
        "id": "S09nos33ajyp"
      },
      "source": [
        "**Ploting:**"
      ]
    },
    {
      "cell_type": "code",
      "metadata": {
        "colab": {
          "base_uri": "https://localhost:8080/",
          "height": 573
        },
        "id": "viahCVjQaA6f",
        "outputId": "ef432cbb-3970-4f8e-a365-2d8294a0b589"
      },
      "source": [
        "historyp5 = history5.history\n",
        "loss_values = historyp5[\"loss\"]\n",
        "val_loss_values = historyp5[\"val_loss\"]\n",
        "epochs = range(1, len(loss_values) + 1)\n",
        "plt.plot(epochs, loss_values, \"bo\", label=\"Training loss\")\n",
        "plt.plot(epochs, val_loss_values, \"b\", label=\"Validation loss\")\n",
        "plt.title(\"Training and validation loss\")\n",
        "plt.xlabel(\"Epochs\")\n",
        "plt.ylabel(\"Loss\")\n",
        "plt.legend()\n",
        "plt.show()\n",
        "\n",
        "\n",
        "plt.clf()\n",
        "acc = historyp5[\"accuracy\"]\n",
        "val_acc = historyp5[\"val_accuracy\"]\n",
        "plt.plot(epochs, acc, \"bo\", label=\"Training acc\")\n",
        "plt.plot(epochs, val_acc, \"b\", label=\"Validation acc\")\n",
        "plt.title(\"Training and validation accuracy\")\n",
        "plt.xlabel(\"Epochs\")\n",
        "plt.ylabel(\"Accuracy\")\n",
        "plt.legend()\n",
        "plt.show()\n"
      ],
      "execution_count": 57,
      "outputs": [
        {
          "output_type": "display_data",
          "data": {
            "image/png": "[encoded data removed]",
            "text/plain": [
              "<Figure size 432x288 with 1 Axes>"
            ]
          },
          "metadata": {
            "needs_background": "light"
          }
        },
        {
          "output_type": "display_data",
          "data": {
            "image/png": "[encoded data removed]",
            "text/plain": [
              "<Figure size 432x288 with 1 Axes>"
            ]
          },
          "metadata": {
            "needs_background": "light"
          }
        }
      ]
    }
  ]
}