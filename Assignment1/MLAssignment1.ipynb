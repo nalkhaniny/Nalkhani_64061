{
  "nbformat": 4,
  "nbformat_minor": 0,
  "metadata": {
    "colab": {
      "name": "Untitled0.ipynb",
      "provenance": [],
      "collapsed_sections": []
    },
    "kernelspec": {
      "name": "python3",
      "display_name": "Python 3"
    },
    "language_info": {
      "name": "python"
    }
  },
  "cells": [
    {
      "cell_type": "markdown",
      "metadata": {
        "id": "Skhdg7dzdeyP"
      },
      "source": [
        "**Assignment 1**\n",
        "\n",
        "**Neural Network**\n",
        "\n",
        "**Noorah Alkhaniny**\n",
        "\n",
        "Directions In this assignment, you will accomplish the following:\n",
        "\n",
        "1.Modify an existing neural network model to improve performance\n",
        "\n",
        "2.Explain how different approaches affect the performance of the model For the IMDB example that we discussed in class, do the following:\n",
        "\n",
        "1.You used two hidden layers. Try using one or three hidden layers, and see how doing so affects validation and test accuracy.\n",
        "\n",
        "2.Try using layers with more hidden units or fewer hidden units: 32 units, 64 units, and so on.\n",
        "\n",
        "3.Try using the mse loss function instead ofbinary_crossentropy.\n",
        "\n",
        "4.Try using the tanh activation (an activation that was popular in the early days of neural networks) instead of relu.\n",
        "\n",
        "5.Use any technique we studied in class, and these include regularization, dropout, etc., to get your model to perform better on validation."
      ]
    },
    {
      "cell_type": "markdown",
      "metadata": {
        "id": "qDrB1DVdukDc"
      },
      "source": [
        "**Adding libraries**"
      ]
    },
    {
      "cell_type": "code",
      "metadata": {
        "id": "EJx3kAujt5bF"
      },
      "source": [
        "import matplotlib \n",
        "import matplotlib.pyplot as plt\n",
        "import numpy as np\n",
        "from keras import models\n",
        "from keras import layers"
      ],
      "execution_count": 58,
      "outputs": []
    },
    {
      "cell_type": "markdown",
      "metadata": {
        "id": "Jcwe8V1ngp9p"
      },
      "source": [
        "**Importing the dataset**"
      ]
    },
    {
      "cell_type": "code",
      "metadata": {
        "id": "XL6bQKx-dG7Z"
      },
      "source": [
        "from tensorflow.keras.datasets import imdb\n",
        "(train_data, train_labels), (test_data, test_labels) = imdb.load_data(\n",
        "    num_words=10000)\n"
      ],
      "execution_count": 59,
      "outputs": []
    },
    {
      "cell_type": "code",
      "metadata": {
        "id": "uTWZvPyDgwAg",
        "colab": {
          "base_uri": "https://localhost:8080/"
        },
        "outputId": "0919ef78-6298-4a95-dcce-12611b1b97ca"
      },
      "source": [
        "train_labels[0]"
      ],
      "execution_count": 60,
      "outputs": [
        {
          "output_type": "execute_result",
          "data": {
            "text/plain": [
              "1"
            ]
          },
          "metadata": {},
          "execution_count": 60
        }
      ]
    },
    {
      "cell_type": "code",
      "metadata": {
        "id": "xM_5RrGEdUXl",
        "colab": {
          "base_uri": "https://localhost:8080/"
        },
        "outputId": "286e56b2-1f57-468e-e2c7-2d954fb572c4"
      },
      "source": [
        "train_data[0]"
      ],
      "execution_count": 61,
      "outputs": [
        {
          "output_type": "execute_result",
          "data": {
            "text/plain": [
              "[1,\n",
              " 14,\n",
              " 22,\n",
              " 16,\n",
              " 43,\n",
              " 530,\n",
              " 973,\n",
              " 1622,\n",
              " 1385,\n",
              " 65,\n",
              " 458,\n",
              " 4468,\n",
              " 66,\n",
              " 3941,\n",
              " 4,\n",
              " 173,\n",
              " 36,\n",
              " 256,\n",
              " 5,\n",
              " 25,\n",
              " 100,\n",
              " 43,\n",
              " 838,\n",
              " 112,\n",
              " 50,\n",
              " 670,\n",
              " 2,\n",
              " 9,\n",
              " 35,\n",
              " 480,\n",
              " 284,\n",
              " 5,\n",
              " 150,\n",
              " 4,\n",
              " 172,\n",
              " 112,\n",
              " 167,\n",
              " 2,\n",
              " 336,\n",
              " 385,\n",
              " 39,\n",
              " 4,\n",
              " 172,\n",
              " 4536,\n",
              " 1111,\n",
              " 17,\n",
              " 546,\n",
              " 38,\n",
              " 13,\n",
              " 447,\n",
              " 4,\n",
              " 192,\n",
              " 50,\n",
              " 16,\n",
              " 6,\n",
              " 147,\n",
              " 2025,\n",
              " 19,\n",
              " 14,\n",
              " 22,\n",
              " 4,\n",
              " 1920,\n",
              " 4613,\n",
              " 469,\n",
              " 4,\n",
              " 22,\n",
              " 71,\n",
              " 87,\n",
              " 12,\n",
              " 16,\n",
              " 43,\n",
              " 530,\n",
              " 38,\n",
              " 76,\n",
              " 15,\n",
              " 13,\n",
              " 1247,\n",
              " 4,\n",
              " 22,\n",
              " 17,\n",
              " 515,\n",
              " 17,\n",
              " 12,\n",
              " 16,\n",
              " 626,\n",
              " 18,\n",
              " 2,\n",
              " 5,\n",
              " 62,\n",
              " 386,\n",
              " 12,\n",
              " 8,\n",
              " 316,\n",
              " 8,\n",
              " 106,\n",
              " 5,\n",
              " 4,\n",
              " 2223,\n",
              " 5244,\n",
              " 16,\n",
              " 480,\n",
              " 66,\n",
              " 3785,\n",
              " 33,\n",
              " 4,\n",
              " 130,\n",
              " 12,\n",
              " 16,\n",
              " 38,\n",
              " 619,\n",
              " 5,\n",
              " 25,\n",
              " 124,\n",
              " 51,\n",
              " 36,\n",
              " 135,\n",
              " 48,\n",
              " 25,\n",
              " 1415,\n",
              " 33,\n",
              " 6,\n",
              " 22,\n",
              " 12,\n",
              " 215,\n",
              " 28,\n",
              " 77,\n",
              " 52,\n",
              " 5,\n",
              " 14,\n",
              " 407,\n",
              " 16,\n",
              " 82,\n",
              " 2,\n",
              " 8,\n",
              " 4,\n",
              " 107,\n",
              " 117,\n",
              " 5952,\n",
              " 15,\n",
              " 256,\n",
              " 4,\n",
              " 2,\n",
              " 7,\n",
              " 3766,\n",
              " 5,\n",
              " 723,\n",
              " 36,\n",
              " 71,\n",
              " 43,\n",
              " 530,\n",
              " 476,\n",
              " 26,\n",
              " 400,\n",
              " 317,\n",
              " 46,\n",
              " 7,\n",
              " 4,\n",
              " 2,\n",
              " 1029,\n",
              " 13,\n",
              " 104,\n",
              " 88,\n",
              " 4,\n",
              " 381,\n",
              " 15,\n",
              " 297,\n",
              " 98,\n",
              " 32,\n",
              " 2071,\n",
              " 56,\n",
              " 26,\n",
              " 141,\n",
              " 6,\n",
              " 194,\n",
              " 7486,\n",
              " 18,\n",
              " 4,\n",
              " 226,\n",
              " 22,\n",
              " 21,\n",
              " 134,\n",
              " 476,\n",
              " 26,\n",
              " 480,\n",
              " 5,\n",
              " 144,\n",
              " 30,\n",
              " 5535,\n",
              " 18,\n",
              " 51,\n",
              " 36,\n",
              " 28,\n",
              " 224,\n",
              " 92,\n",
              " 25,\n",
              " 104,\n",
              " 4,\n",
              " 226,\n",
              " 65,\n",
              " 16,\n",
              " 38,\n",
              " 1334,\n",
              " 88,\n",
              " 12,\n",
              " 16,\n",
              " 283,\n",
              " 5,\n",
              " 16,\n",
              " 4472,\n",
              " 113,\n",
              " 103,\n",
              " 32,\n",
              " 15,\n",
              " 16,\n",
              " 5345,\n",
              " 19,\n",
              " 178,\n",
              " 32]"
            ]
          },
          "metadata": {},
          "execution_count": 61
        }
      ]
    },
    {
      "cell_type": "code",
      "metadata": {
        "id": "BT4Cg1wbrB7S"
      },
      "source": [
        "word_index = imdb.get_word_index()\n",
        "reverse_word_index = dict(\n",
        "    [(value, key) for (key, value) in word_index.items()])\n",
        "decoded_review = \" \".join(\n",
        "    [reverse_word_index.get(i - 3, \"?\") for i in train_data[0]])"
      ],
      "execution_count": 62,
      "outputs": []
    },
    {
      "cell_type": "code",
      "metadata": {
        "id": "NtHtpp5nrGR-"
      },
      "source": [
        "def vectorize_sequences(sequences, dimension=10000):\n",
        "    results = np.zeros((len(sequences), dimension))\n",
        "    for i, sequence in enumerate(sequences):\n",
        "        for j in sequence:\n",
        "            results[i, j] = 1.\n",
        "    return results\n",
        "x_train = vectorize_sequences(train_data)\n",
        "x_test = vectorize_sequences(test_data)"
      ],
      "execution_count": 63,
      "outputs": []
    },
    {
      "cell_type": "code",
      "metadata": {
        "id": "6DSqjbr-rMhZ"
      },
      "source": [
        "y_train = np.asarray(train_labels).astype(\"float32\")\n",
        "y_test = np.asarray(test_labels).astype(\"float32\")"
      ],
      "execution_count": 64,
      "outputs": []
    },
    {
      "cell_type": "code",
      "metadata": {
        "colab": {
          "base_uri": "https://localhost:8080/"
        },
        "id": "hqaD_EAMrJpL",
        "outputId": "58b7a450-a5c6-4236-9a7d-42cae84cd8c4"
      },
      "source": [
        "x_train[0]"
      ],
      "execution_count": 65,
      "outputs": [
        {
          "output_type": "execute_result",
          "data": {
            "text/plain": [
              "array([0., 1., 1., ..., 0., 0., 0.])"
            ]
          },
          "metadata": {},
          "execution_count": 65
        }
      ]
    },
    {
      "cell_type": "markdown",
      "metadata": {
        "id": "QjeDPVsvwXSW"
      },
      "source": [
        "**Model Structure**"
      ]
    },
    {
      "cell_type": "code",
      "metadata": {
        "id": "xTwbuQnWrP2u"
      },
      "source": [
        "from tensorflow import keras\n",
        "from tensorflow.keras import layers\n",
        "\n",
        "model = keras.Sequential([\n",
        "    layers.Dense(16, activation=\"relu\"),\n",
        "    layers.Dense(16, activation=\"relu\"),\n",
        "    layers.Dense(1, activation=\"sigmoid\")\n",
        "])"
      ],
      "execution_count": 66,
      "outputs": []
    },
    {
      "cell_type": "code",
      "metadata": {
        "id": "-Foda3gSroz1"
      },
      "source": [
        "model.compile(optimizer=\"adam\",\n",
        "              loss=\"binary_crossentropy\",\n",
        "              metrics=[\"accuracy\"])"
      ],
      "execution_count": 67,
      "outputs": []
    },
    {
      "cell_type": "code",
      "metadata": {
        "id": "gpMkObIGrVZa"
      },
      "source": [
        "x_val = x_train[:10000]\n",
        "partial_x_train = x_train[10000:]\n",
        "y_val = y_train[:10000]\n",
        "partial_y_train = y_train[10000:]\n"
      ],
      "execution_count": 68,
      "outputs": []
    },
    {
      "cell_type": "code",
      "metadata": {
        "colab": {
          "base_uri": "https://localhost:8080/"
        },
        "id": "7M4Bvs5trwA8",
        "outputId": "54bcbd7a-9372-4186-d92e-0ad3cceb3c2f"
      },
      "source": [
        "history = model.fit(partial_x_train,\n",
        "                    partial_y_train,\n",
        "                    epochs=20,\n",
        "                    batch_size=512,\n",
        "                    validation_data=(x_val, y_val))"
      ],
      "execution_count": 69,
      "outputs": [
        {
          "output_type": "stream",
          "name": "stdout",
          "text": [
            "Epoch 1/20\n",
            "30/30 [==============================] - 2s 41ms/step - loss: 0.5608 - accuracy: 0.7459 - val_loss: 0.4160 - val_accuracy: 0.8539\n",
            "Epoch 2/20\n",
            "30/30 [==============================] - 1s 31ms/step - loss: 0.3141 - accuracy: 0.8955 - val_loss: 0.3018 - val_accuracy: 0.8849\n",
            "Epoch 3/20\n",
            "30/30 [==============================] - 1s 31ms/step - loss: 0.2114 - accuracy: 0.9296 - val_loss: 0.2759 - val_accuracy: 0.8895\n",
            "Epoch 4/20\n",
            "30/30 [==============================] - 1s 31ms/step - loss: 0.1569 - accuracy: 0.9517 - val_loss: 0.2765 - val_accuracy: 0.8918\n",
            "Epoch 5/20\n",
            "30/30 [==============================] - 1s 32ms/step - loss: 0.1202 - accuracy: 0.9661 - val_loss: 0.2902 - val_accuracy: 0.8849\n",
            "Epoch 6/20\n",
            "30/30 [==============================] - 1s 31ms/step - loss: 0.0923 - accuracy: 0.9762 - val_loss: 0.3119 - val_accuracy: 0.8842\n",
            "Epoch 7/20\n",
            "30/30 [==============================] - 1s 31ms/step - loss: 0.0720 - accuracy: 0.9838 - val_loss: 0.3403 - val_accuracy: 0.8786\n",
            "Epoch 8/20\n",
            "30/30 [==============================] - 1s 31ms/step - loss: 0.0541 - accuracy: 0.9895 - val_loss: 0.3651 - val_accuracy: 0.8788\n",
            "Epoch 9/20\n",
            "30/30 [==============================] - 1s 32ms/step - loss: 0.0426 - accuracy: 0.9929 - val_loss: 0.3991 - val_accuracy: 0.8762\n",
            "Epoch 10/20\n",
            "30/30 [==============================] - 1s 31ms/step - loss: 0.0322 - accuracy: 0.9957 - val_loss: 0.4252 - val_accuracy: 0.8744\n",
            "Epoch 11/20\n",
            "30/30 [==============================] - 1s 31ms/step - loss: 0.0247 - accuracy: 0.9979 - val_loss: 0.4548 - val_accuracy: 0.8739\n",
            "Epoch 12/20\n",
            "30/30 [==============================] - 1s 32ms/step - loss: 0.0187 - accuracy: 0.9991 - val_loss: 0.4831 - val_accuracy: 0.8724\n",
            "Epoch 13/20\n",
            "30/30 [==============================] - 1s 31ms/step - loss: 0.0145 - accuracy: 0.9997 - val_loss: 0.5083 - val_accuracy: 0.8715\n",
            "Epoch 14/20\n",
            "30/30 [==============================] - 1s 30ms/step - loss: 0.0116 - accuracy: 0.9996 - val_loss: 0.5351 - val_accuracy: 0.8705\n",
            "Epoch 15/20\n",
            "30/30 [==============================] - 1s 32ms/step - loss: 0.0095 - accuracy: 0.9999 - val_loss: 0.5580 - val_accuracy: 0.8698\n",
            "Epoch 16/20\n",
            "30/30 [==============================] - 1s 31ms/step - loss: 0.0078 - accuracy: 0.9999 - val_loss: 0.5799 - val_accuracy: 0.8687\n",
            "Epoch 17/20\n",
            "30/30 [==============================] - 1s 32ms/step - loss: 0.0065 - accuracy: 0.9999 - val_loss: 0.6006 - val_accuracy: 0.8681\n",
            "Epoch 18/20\n",
            "30/30 [==============================] - 1s 31ms/step - loss: 0.0055 - accuracy: 0.9999 - val_loss: 0.6209 - val_accuracy: 0.8678\n",
            "Epoch 19/20\n",
            "30/30 [==============================] - 1s 31ms/step - loss: 0.0047 - accuracy: 0.9999 - val_loss: 0.6362 - val_accuracy: 0.8678\n",
            "Epoch 20/20\n",
            "30/30 [==============================] - 1s 30ms/step - loss: 0.0040 - accuracy: 0.9999 - val_loss: 0.6546 - val_accuracy: 0.8667\n"
          ]
        }
      ]
    },
    {
      "cell_type": "markdown",
      "metadata": {
        "id": "1By9O3U5woAM"
      },
      "source": [
        "**Plotting the training and validation loss**"
      ]
    },
    {
      "cell_type": "code",
      "metadata": {
        "colab": {
          "base_uri": "https://localhost:8080/",
          "height": 295
        },
        "id": "pl_bVk7Cr5yN",
        "outputId": "dad511fd-7232-44f4-b053-e3209872761c"
      },
      "source": [
        "history_dict = history.history\n",
        "loss_values = history_dict[\"loss\"]\n",
        "val_loss_values = history_dict[\"val_loss\"]\n",
        "epochs = range(1, len(loss_values) + 1)\n",
        "plt.plot(epochs, loss_values, \"bo\", label=\"Training loss\")\n",
        "plt.plot(epochs, val_loss_values, \"b\", label=\"Validation loss\")\n",
        "plt.title(\"Training and validation loss\")\n",
        "plt.xlabel(\"Epochs\")\n",
        "plt.ylabel(\"Loss\")\n",
        "plt.legend()\n",
        "plt.show()"
      ],
      "execution_count": 70,
      "outputs": [
        {
          "output_type": "display_data",
          "data": {
            "image/png": "[encoded data removed]",
            "text/plain": [
              "<Figure size 432x288 with 1 Axes>"
            ]
          },
          "metadata": {
            "needs_background": "light"
          }
        }
      ]
    },
    {
      "cell_type": "markdown",
      "metadata": {
        "id": "7QqU5eiUyWJ7"
      },
      "source": [
        "*1. You used two hidden layers. Try using one or three hidden layers, and see how doing so affects validation and test accuracy.*"
      ]
    },
    {
      "cell_type": "code",
      "metadata": {
        "id": "6MaKMiYQyu-D"
      },
      "source": [
        "model1 = keras.Sequential([\n",
        "    layers.Dense(16, activation=\"relu\"),\n",
        "    layers.Dense(16, activation=\"relu\"),\n",
        "    layers.Dense(16, activation=\"relu\"),\n",
        "    layers.Dense(1, activation=\"sigmoid\")\n",
        "])\n",
        "\n",
        "model1_1 = keras.Sequential([\n",
        "    layers.Dense(16, activation=\"relu\"),\n",
        "    layers.Dense(1, activation=\"sigmoid\")\n",
        "])"
      ],
      "execution_count": 71,
      "outputs": []
    },
    {
      "cell_type": "code",
      "metadata": {
        "id": "FyYqHibW2NG7"
      },
      "source": [
        "model1.compile(optimizer=\"adam\",\n",
        "              loss=\"binary_crossentropy\",\n",
        "              metrics=[\"accuracy\"])\n",
        "\n",
        "model1_1.compile(optimizer=\"adam\",\n",
        "              loss=\"binary_crossentropy\",\n",
        "              metrics=[\"accuracy\"])"
      ],
      "execution_count": 72,
      "outputs": []
    },
    {
      "cell_type": "code",
      "metadata": {
        "colab": {
          "base_uri": "https://localhost:8080/"
        },
        "id": "--QC2DRU2aYd",
        "outputId": "2ab65254-8a46-4604-aa72-7898bf41b4b9"
      },
      "source": [
        "history1 = model1.fit(partial_x_train,\n",
        "                    partial_y_train,\n",
        "                    epochs=20,\n",
        "                    batch_size=512,\n",
        "                    validation_data=(x_val, y_val))\n",
        "\n",
        "history1_1 = model1.fit(partial_x_train,\n",
        "                    partial_y_train,\n",
        "                    epochs=20,\n",
        "                    batch_size=512,\n",
        "                    validation_data=(x_val, y_val))"
      ],
      "execution_count": 73,
      "outputs": [
        {
          "output_type": "stream",
          "name": "stdout",
          "text": [
            "Epoch 1/20\n",
            "30/30 [==============================] - 2s 45ms/step - loss: 0.5839 - accuracy: 0.7591 - val_loss: 0.4292 - val_accuracy: 0.8601\n",
            "Epoch 2/20\n",
            "30/30 [==============================] - 1s 31ms/step - loss: 0.3094 - accuracy: 0.8981 - val_loss: 0.2965 - val_accuracy: 0.8841\n",
            "Epoch 3/20\n",
            "30/30 [==============================] - 1s 31ms/step - loss: 0.1936 - accuracy: 0.9329 - val_loss: 0.2795 - val_accuracy: 0.8879\n",
            "Epoch 4/20\n",
            "30/30 [==============================] - 1s 31ms/step - loss: 0.1366 - accuracy: 0.9577 - val_loss: 0.2906 - val_accuracy: 0.8876\n",
            "Epoch 5/20\n",
            "30/30 [==============================] - 1s 31ms/step - loss: 0.0995 - accuracy: 0.9733 - val_loss: 0.3189 - val_accuracy: 0.8839\n",
            "Epoch 6/20\n",
            "30/30 [==============================] - 1s 31ms/step - loss: 0.0713 - accuracy: 0.9831 - val_loss: 0.3576 - val_accuracy: 0.8777\n",
            "Epoch 7/20\n",
            "30/30 [==============================] - 1s 31ms/step - loss: 0.0503 - accuracy: 0.9897 - val_loss: 0.3994 - val_accuracy: 0.8756\n",
            "Epoch 8/20\n",
            "30/30 [==============================] - 1s 32ms/step - loss: 0.0341 - accuracy: 0.9945 - val_loss: 0.4490 - val_accuracy: 0.8731\n",
            "Epoch 9/20\n",
            "30/30 [==============================] - 1s 34ms/step - loss: 0.0207 - accuracy: 0.9977 - val_loss: 0.5016 - val_accuracy: 0.8703\n",
            "Epoch 10/20\n",
            "30/30 [==============================] - 1s 31ms/step - loss: 0.0127 - accuracy: 0.9990 - val_loss: 0.5445 - val_accuracy: 0.8699\n",
            "Epoch 11/20\n",
            "30/30 [==============================] - 1s 31ms/step - loss: 0.0075 - accuracy: 0.9995 - val_loss: 0.5881 - val_accuracy: 0.8694\n",
            "Epoch 12/20\n",
            "30/30 [==============================] - 1s 31ms/step - loss: 0.0046 - accuracy: 0.9998 - val_loss: 0.6317 - val_accuracy: 0.8703\n",
            "Epoch 13/20\n",
            "30/30 [==============================] - 1s 31ms/step - loss: 0.0030 - accuracy: 1.0000 - val_loss: 0.6636 - val_accuracy: 0.8690\n",
            "Epoch 14/20\n",
            "30/30 [==============================] - 1s 32ms/step - loss: 0.0022 - accuracy: 1.0000 - val_loss: 0.6917 - val_accuracy: 0.8688\n",
            "Epoch 15/20\n",
            "30/30 [==============================] - 1s 32ms/step - loss: 0.0016 - accuracy: 1.0000 - val_loss: 0.7163 - val_accuracy: 0.8687\n",
            "Epoch 16/20\n",
            "30/30 [==============================] - 1s 31ms/step - loss: 0.0013 - accuracy: 1.0000 - val_loss: 0.7381 - val_accuracy: 0.8685\n",
            "Epoch 17/20\n",
            "30/30 [==============================] - 1s 32ms/step - loss: 0.0011 - accuracy: 1.0000 - val_loss: 0.7580 - val_accuracy: 0.8685\n",
            "Epoch 18/20\n",
            "30/30 [==============================] - 1s 31ms/step - loss: 8.7571e-04 - accuracy: 1.0000 - val_loss: 0.7767 - val_accuracy: 0.8685\n",
            "Epoch 19/20\n",
            "30/30 [==============================] - 1s 31ms/step - loss: 7.3954e-04 - accuracy: 1.0000 - val_loss: 0.7930 - val_accuracy: 0.8683\n",
            "Epoch 20/20\n",
            "30/30 [==============================] - 1s 31ms/step - loss: 6.3318e-04 - accuracy: 1.0000 - val_loss: 0.8088 - val_accuracy: 0.8680\n",
            "Epoch 1/20\n",
            "30/30 [==============================] - 2s 62ms/step - loss: 5.4790e-04 - accuracy: 1.0000 - val_loss: 0.8232 - val_accuracy: 0.8677\n",
            "Epoch 2/20\n",
            "30/30 [==============================] - 1s 32ms/step - loss: 4.8151e-04 - accuracy: 1.0000 - val_loss: 0.8372 - val_accuracy: 0.8683\n",
            "Epoch 3/20\n",
            "30/30 [==============================] - 1s 32ms/step - loss: 4.2520e-04 - accuracy: 1.0000 - val_loss: 0.8505 - val_accuracy: 0.8682\n",
            "Epoch 4/20\n",
            "30/30 [==============================] - 1s 31ms/step - loss: 3.7679e-04 - accuracy: 1.0000 - val_loss: 0.8623 - val_accuracy: 0.8680\n",
            "Epoch 5/20\n",
            "30/30 [==============================] - 1s 32ms/step - loss: 3.3778e-04 - accuracy: 1.0000 - val_loss: 0.8733 - val_accuracy: 0.8674\n",
            "Epoch 6/20\n",
            "30/30 [==============================] - 1s 33ms/step - loss: 3.0451e-04 - accuracy: 1.0000 - val_loss: 0.8844 - val_accuracy: 0.8675\n",
            "Epoch 7/20\n",
            "30/30 [==============================] - 1s 33ms/step - loss: 2.7572e-04 - accuracy: 1.0000 - val_loss: 0.8950 - val_accuracy: 0.8681\n",
            "Epoch 8/20\n",
            "30/30 [==============================] - 1s 32ms/step - loss: 2.5086e-04 - accuracy: 1.0000 - val_loss: 0.9047 - val_accuracy: 0.8677\n",
            "Epoch 9/20\n",
            "30/30 [==============================] - 1s 32ms/step - loss: 2.2930e-04 - accuracy: 1.0000 - val_loss: 0.9144 - val_accuracy: 0.8677\n",
            "Epoch 10/20\n",
            "30/30 [==============================] - 1s 32ms/step - loss: 2.1054e-04 - accuracy: 1.0000 - val_loss: 0.9234 - val_accuracy: 0.8679\n",
            "Epoch 11/20\n",
            "30/30 [==============================] - 1s 32ms/step - loss: 1.9393e-04 - accuracy: 1.0000 - val_loss: 0.9327 - val_accuracy: 0.8676\n",
            "Epoch 12/20\n",
            "30/30 [==============================] - 1s 32ms/step - loss: 1.7914e-04 - accuracy: 1.0000 - val_loss: 0.9415 - val_accuracy: 0.8675\n",
            "Epoch 13/20\n",
            "30/30 [==============================] - 1s 33ms/step - loss: 1.6559e-04 - accuracy: 1.0000 - val_loss: 0.9501 - val_accuracy: 0.8676\n",
            "Epoch 14/20\n",
            "30/30 [==============================] - 1s 32ms/step - loss: 1.5383e-04 - accuracy: 1.0000 - val_loss: 0.9579 - val_accuracy: 0.8675\n",
            "Epoch 15/20\n",
            "30/30 [==============================] - 1s 33ms/step - loss: 1.4319e-04 - accuracy: 1.0000 - val_loss: 0.9660 - val_accuracy: 0.8674\n",
            "Epoch 16/20\n",
            "30/30 [==============================] - 1s 32ms/step - loss: 1.3336e-04 - accuracy: 1.0000 - val_loss: 0.9736 - val_accuracy: 0.8676\n",
            "Epoch 17/20\n",
            "30/30 [==============================] - 1s 33ms/step - loss: 1.2477e-04 - accuracy: 1.0000 - val_loss: 0.9814 - val_accuracy: 0.8677\n",
            "Epoch 18/20\n",
            "30/30 [==============================] - 1s 32ms/step - loss: 1.1668e-04 - accuracy: 1.0000 - val_loss: 0.9897 - val_accuracy: 0.8673\n",
            "Epoch 19/20\n",
            "30/30 [==============================] - 1s 32ms/step - loss: 1.0468e-04 - accuracy: 1.0000 - val_loss: 1.0131 - val_accuracy: 0.8672\n",
            "Epoch 20/20\n",
            "30/30 [==============================] - 1s 32ms/step - loss: 8.7040e-05 - accuracy: 1.0000 - val_loss: 1.0311 - val_accuracy: 0.8672\n"
          ]
        }
      ]
    },
    {
      "cell_type": "markdown",
      "metadata": {
        "id": "lNF8I8IBcpa4"
      },
      "source": [
        "**Ploting:**"
      ]
    },
    {
      "cell_type": "code",
      "metadata": {
        "colab": {
          "base_uri": "https://localhost:8080/",
          "height": 573
        },
        "id": "jbrjSo4W3tOF",
        "outputId": "00e5adfc-b75d-4625-b0dd-2e83f03333e2"
      },
      "source": [
        "historyp1 = history1.history\n",
        "historyp1_1 = history1_1.history\n",
        "\n",
        "plt.plot(history1.history['val_loss'], 'r', history1_1.history['val_loss'], 'b')\n",
        "plt.title(\"Training and validation loss\")\n",
        "plt.xlabel('Epochs')\n",
        "plt.ylabel('Validation score')\n",
        "plt.show()\n",
        "\n",
        "plt.clf()\n",
        "acc = historyp1[\"accuracy\"]\n",
        "val_acc = historyp1[\"val_accuracy\"]\n",
        "plt.plot(epochs, acc, \"bo\", label=\"Training acc\")\n",
        "plt.plot(epochs, val_acc, \"b\", label=\"Validation acc\")\n",
        "plt.title(\"Training and validation accuracy\")\n",
        "plt.xlabel(\"Epochs\")\n",
        "plt.ylabel(\"Accuracy\")\n",
        "plt.legend()\n",
        "plt.show()"
      ],
      "execution_count": 74,
      "outputs": [
        {
          "output_type": "display_data",
          "data": {
            "image/png": "[encoded data removed]",
            "text/plain": [
              "<Figure size 432x288 with 1 Axes>"
            ]
          },
          "metadata": {
            "needs_background": "light"
          }
        },
        {
          "output_type": "display_data",
          "data": {
            "image/png": "[encoded data removed]",
            "text/plain": [
              "<Figure size 432x288 with 1 Axes>"
            ]
          },
          "metadata": {
            "needs_background": "light"
          }
        }
      ]
    },
    {
      "cell_type": "markdown",
      "metadata": {
        "id": "sW27OFH8488X"
      },
      "source": [
        "*2.Try using layers with more hidden units or fewer hidden units: 32 units, 64 units, and so on.*\n"
      ]
    },
    {
      "cell_type": "code",
      "metadata": {
        "id": "CQLYiwS13tIk"
      },
      "source": [
        "model2 = keras.Sequential([\n",
        "    layers.Dense(32, activation=\"relu\"),\n",
        "    layers.Dense(64, activation=\"relu\"),\n",
        "    layers.Dense(1, activation=\"sigmoid\")\n",
        "])"
      ],
      "execution_count": 75,
      "outputs": []
    },
    {
      "cell_type": "code",
      "metadata": {
        "id": "5hcIlw773tFy"
      },
      "source": [
        "model2.compile(optimizer=\"adam\",\n",
        "              loss=\"binary_crossentropy\",\n",
        "              metrics=[\"accuracy\"])"
      ],
      "execution_count": 76,
      "outputs": []
    },
    {
      "cell_type": "code",
      "metadata": {
        "colab": {
          "base_uri": "https://localhost:8080/"
        },
        "id": "i_tO-vfJ3tDK",
        "outputId": "b8667356-c698-4931-dc1b-ede826dd5cbe"
      },
      "source": [
        "history2 = model2.fit(partial_x_train,\n",
        "                    partial_y_train,\n",
        "                    epochs=20,\n",
        "                    batch_size=512,\n",
        "                    validation_data=(x_val, y_val))\n"
      ],
      "execution_count": 78,
      "outputs": [
        {
          "output_type": "stream",
          "name": "stdout",
          "text": [
            "Epoch 1/20\n",
            "30/30 [==============================] - 2s 47ms/step - loss: 0.5227 - accuracy: 0.7832 - val_loss: 0.3396 - val_accuracy: 0.8706\n",
            "Epoch 2/20\n",
            "30/30 [==============================] - 1s 39ms/step - loss: 0.2371 - accuracy: 0.9151 - val_loss: 0.2760 - val_accuracy: 0.8903\n",
            "Epoch 3/20\n",
            "30/30 [==============================] - 1s 38ms/step - loss: 0.1423 - accuracy: 0.9521 - val_loss: 0.2990 - val_accuracy: 0.8846\n",
            "Epoch 4/20\n",
            "30/30 [==============================] - 1s 38ms/step - loss: 0.0924 - accuracy: 0.9717 - val_loss: 0.3406 - val_accuracy: 0.8815\n",
            "Epoch 5/20\n",
            "30/30 [==============================] - 1s 38ms/step - loss: 0.0572 - accuracy: 0.9863 - val_loss: 0.3920 - val_accuracy: 0.8789\n",
            "Epoch 6/20\n",
            "30/30 [==============================] - 1s 38ms/step - loss: 0.0342 - accuracy: 0.9941 - val_loss: 0.4566 - val_accuracy: 0.8717\n",
            "Epoch 7/20\n",
            "30/30 [==============================] - 1s 37ms/step - loss: 0.0210 - accuracy: 0.9974 - val_loss: 0.5093 - val_accuracy: 0.8723\n",
            "Epoch 8/20\n",
            "30/30 [==============================] - 1s 37ms/step - loss: 0.0122 - accuracy: 0.9995 - val_loss: 0.5533 - val_accuracy: 0.8695\n",
            "Epoch 9/20\n",
            "30/30 [==============================] - 1s 37ms/step - loss: 0.0075 - accuracy: 0.9998 - val_loss: 0.5980 - val_accuracy: 0.8704\n",
            "Epoch 10/20\n",
            "30/30 [==============================] - 1s 37ms/step - loss: 0.0051 - accuracy: 0.9999 - val_loss: 0.6282 - val_accuracy: 0.8687\n",
            "Epoch 11/20\n",
            "30/30 [==============================] - 1s 39ms/step - loss: 0.0037 - accuracy: 0.9999 - val_loss: 0.6568 - val_accuracy: 0.8676\n",
            "Epoch 12/20\n",
            "30/30 [==============================] - 1s 38ms/step - loss: 0.0029 - accuracy: 0.9999 - val_loss: 0.6821 - val_accuracy: 0.8681\n",
            "Epoch 13/20\n",
            "30/30 [==============================] - 1s 38ms/step - loss: 0.0023 - accuracy: 0.9999 - val_loss: 0.7047 - val_accuracy: 0.8678\n",
            "Epoch 14/20\n",
            "30/30 [==============================] - 1s 38ms/step - loss: 0.0018 - accuracy: 0.9999 - val_loss: 0.7254 - val_accuracy: 0.8674\n",
            "Epoch 15/20\n",
            "30/30 [==============================] - 1s 37ms/step - loss: 0.0015 - accuracy: 1.0000 - val_loss: 0.7441 - val_accuracy: 0.8673\n",
            "Epoch 16/20\n",
            "30/30 [==============================] - 1s 37ms/step - loss: 0.0013 - accuracy: 1.0000 - val_loss: 0.7621 - val_accuracy: 0.8676\n",
            "Epoch 17/20\n",
            "30/30 [==============================] - 1s 38ms/step - loss: 0.0011 - accuracy: 1.0000 - val_loss: 0.7788 - val_accuracy: 0.8669\n",
            "Epoch 18/20\n",
            "30/30 [==============================] - 1s 37ms/step - loss: 9.4445e-04 - accuracy: 1.0000 - val_loss: 0.7942 - val_accuracy: 0.8674\n",
            "Epoch 19/20\n",
            "30/30 [==============================] - 1s 37ms/step - loss: 8.2585e-04 - accuracy: 1.0000 - val_loss: 0.8088 - val_accuracy: 0.8670\n",
            "Epoch 20/20\n",
            "30/30 [==============================] - 1s 37ms/step - loss: 7.2924e-04 - accuracy: 1.0000 - val_loss: 0.8231 - val_accuracy: 0.8672\n"
          ]
        }
      ]
    },
    {
      "cell_type": "markdown",
      "metadata": {
        "id": "-dce-S5MWBUC"
      },
      "source": [
        "**Ploting:**"
      ]
    },
    {
      "cell_type": "code",
      "metadata": {
        "colab": {
          "base_uri": "https://localhost:8080/",
          "height": 573
        },
        "id": "jJcJ--D83tAI",
        "outputId": "c6e3eaf2-04a3-47bd-a5fb-bdf1e0d3840f"
      },
      "source": [
        "historyp2 = history2.history\n",
        "loss_values = historyp2[\"loss\"]\n",
        "val_loss_values = historyp2[\"val_loss\"]\n",
        "epochs = range(1, len(loss_values) + 1)\n",
        "plt.plot(epochs, loss_values, \"bo\", label=\"Training loss\")\n",
        "plt.plot(epochs, val_loss_values, \"b\", label=\"Validation loss\")\n",
        "plt.title(\"Training and validation loss\")\n",
        "plt.xlabel(\"Epochs\")\n",
        "plt.ylabel(\"Loss\")\n",
        "plt.legend()\n",
        "plt.show()\n",
        "\n",
        "plt.clf()\n",
        "acc = historyp2[\"accuracy\"]\n",
        "val_acc = historyp2[\"val_accuracy\"]\n",
        "plt.plot(epochs, acc, \"bo\", label=\"Training acc\")\n",
        "plt.plot(epochs, val_acc, \"b\", label=\"Validation acc\")\n",
        "plt.title(\"Training and validation accuracy\")\n",
        "plt.xlabel(\"Epochs\")\n",
        "plt.ylabel(\"Accuracy\")\n",
        "plt.legend()\n",
        "plt.show()"
      ],
      "execution_count": 79,
      "outputs": [
        {
          "output_type": "display_data",
          "data": {
            "image/png": "[encoded data removed]",
            "text/plain": [
              "<Figure size 432x288 with 1 Axes>"
            ]
          },
          "metadata": {
            "needs_background": "light"
          }
        },
        {
          "output_type": "display_data",
          "data": {
            "image/png": "[encoded data removed]",
            "text/plain": [
              "<Figure size 432x288 with 1 Axes>"
            ]
          },
          "metadata": {
            "needs_background": "light"
          }
        }
      ]
    },
    {
      "cell_type": "markdown",
      "metadata": {
        "id": "TqDX6c-z5qUv"
      },
      "source": [
        "\n",
        "*3.Try using the mse loss function instead of binary_crossentropy.*\n"
      ]
    },
    {
      "cell_type": "code",
      "metadata": {
        "id": "IQ-Vsl4m57jT"
      },
      "source": [
        "model3 = keras.Sequential([\n",
        "    layers.Dense(16, activation=\"relu\"),\n",
        "    layers.Dense(16, activation=\"relu\"),\n",
        "    layers.Dense(1, activation=\"sigmoid\")\n",
        "])"
      ],
      "execution_count": 80,
      "outputs": []
    },
    {
      "cell_type": "code",
      "metadata": {
        "id": "zec84t_-3s91"
      },
      "source": [
        "model3.compile(optimizer=\"adam\",\n",
        "              loss=\"mse\",\n",
        "              metrics=[\"accuracy\"])"
      ],
      "execution_count": 81,
      "outputs": []
    },
    {
      "cell_type": "code",
      "metadata": {
        "colab": {
          "base_uri": "https://localhost:8080/"
        },
        "id": "zlx5iwSa3s7S",
        "outputId": "2b169b6a-6d54-42f1-bafc-54c43cd1646c"
      },
      "source": [
        "history3 = model3.fit(partial_x_train,\n",
        "                    partial_y_train,\n",
        "                    epochs=20,\n",
        "                    batch_size=512,\n",
        "                    validation_data=(x_val, y_val))"
      ],
      "execution_count": 82,
      "outputs": [
        {
          "output_type": "stream",
          "name": "stdout",
          "text": [
            "Epoch 1/20\n",
            "30/30 [==============================] - 2s 41ms/step - loss: 0.1827 - accuracy: 0.7688 - val_loss: 0.1213 - val_accuracy: 0.8618\n",
            "Epoch 2/20\n",
            "30/30 [==============================] - 1s 32ms/step - loss: 0.0871 - accuracy: 0.9061 - val_loss: 0.0898 - val_accuracy: 0.8875\n",
            "Epoch 3/20\n",
            "30/30 [==============================] - 1s 32ms/step - loss: 0.0569 - accuracy: 0.9381 - val_loss: 0.0836 - val_accuracy: 0.8893\n",
            "Epoch 4/20\n",
            "30/30 [==============================] - 1s 32ms/step - loss: 0.0418 - accuracy: 0.9577 - val_loss: 0.0834 - val_accuracy: 0.8851\n",
            "Epoch 5/20\n",
            "30/30 [==============================] - 1s 32ms/step - loss: 0.0314 - accuracy: 0.9720 - val_loss: 0.0855 - val_accuracy: 0.8823\n",
            "Epoch 6/20\n",
            "30/30 [==============================] - 1s 31ms/step - loss: 0.0239 - accuracy: 0.9811 - val_loss: 0.0872 - val_accuracy: 0.8800\n",
            "Epoch 7/20\n",
            "30/30 [==============================] - 1s 33ms/step - loss: 0.0179 - accuracy: 0.9872 - val_loss: 0.0899 - val_accuracy: 0.8772\n",
            "Epoch 8/20\n",
            "30/30 [==============================] - 1s 32ms/step - loss: 0.0140 - accuracy: 0.9905 - val_loss: 0.0924 - val_accuracy: 0.8754\n",
            "Epoch 9/20\n",
            "30/30 [==============================] - 1s 33ms/step - loss: 0.0109 - accuracy: 0.9933 - val_loss: 0.0938 - val_accuracy: 0.8755\n",
            "Epoch 10/20\n",
            "30/30 [==============================] - 1s 31ms/step - loss: 0.0086 - accuracy: 0.9950 - val_loss: 0.0964 - val_accuracy: 0.8729\n",
            "Epoch 11/20\n",
            "30/30 [==============================] - 1s 32ms/step - loss: 0.0069 - accuracy: 0.9958 - val_loss: 0.0978 - val_accuracy: 0.8730\n",
            "Epoch 12/20\n",
            "30/30 [==============================] - 1s 31ms/step - loss: 0.0059 - accuracy: 0.9963 - val_loss: 0.0993 - val_accuracy: 0.8714\n",
            "Epoch 13/20\n",
            "30/30 [==============================] - 1s 32ms/step - loss: 0.0051 - accuracy: 0.9965 - val_loss: 0.1002 - val_accuracy: 0.8721\n",
            "Epoch 14/20\n",
            "30/30 [==============================] - 1s 31ms/step - loss: 0.0046 - accuracy: 0.9967 - val_loss: 0.1013 - val_accuracy: 0.8717\n",
            "Epoch 15/20\n",
            "30/30 [==============================] - 1s 32ms/step - loss: 0.0042 - accuracy: 0.9969 - val_loss: 0.1022 - val_accuracy: 0.8706\n",
            "Epoch 16/20\n",
            "30/30 [==============================] - 1s 32ms/step - loss: 0.0039 - accuracy: 0.9969 - val_loss: 0.1035 - val_accuracy: 0.8693\n",
            "Epoch 17/20\n",
            "30/30 [==============================] - 1s 32ms/step - loss: 0.0036 - accuracy: 0.9971 - val_loss: 0.1043 - val_accuracy: 0.8691\n",
            "Epoch 18/20\n",
            "30/30 [==============================] - 1s 32ms/step - loss: 0.0035 - accuracy: 0.9971 - val_loss: 0.1047 - val_accuracy: 0.8681\n",
            "Epoch 19/20\n",
            "30/30 [==============================] - 1s 32ms/step - loss: 0.0033 - accuracy: 0.9973 - val_loss: 0.1054 - val_accuracy: 0.8677\n",
            "Epoch 20/20\n",
            "30/30 [==============================] - 1s 31ms/step - loss: 0.0032 - accuracy: 0.9973 - val_loss: 0.1065 - val_accuracy: 0.8678\n"
          ]
        }
      ]
    },
    {
      "cell_type": "markdown",
      "metadata": {
        "id": "yjDYanshZW6j"
      },
      "source": [
        "**Ploting:**"
      ]
    },
    {
      "cell_type": "code",
      "metadata": {
        "colab": {
          "base_uri": "https://localhost:8080/",
          "height": 573
        },
        "id": "ojmkDJZ93s4W",
        "outputId": "8dbbdc7a-57ae-41d7-a074-379956dc6362"
      },
      "source": [
        "historyp3 = history3.history\n",
        "loss_values = historyp3[\"loss\"]\n",
        "val_loss_values = historyp3[\"val_loss\"]\n",
        "epochs = range(1, len(loss_values) + 1)\n",
        "plt.plot(epochs, loss_values, \"bo\", label=\"Training loss\")\n",
        "plt.plot(epochs, val_loss_values, \"b\", label=\"Validation loss\")\n",
        "plt.title(\"Training and validation loss\")\n",
        "plt.xlabel(\"Epochs\")\n",
        "plt.ylabel(\"Loss\")\n",
        "plt.legend()\n",
        "plt.show()\n",
        "\n",
        "\n",
        "\n",
        "plt.clf()\n",
        "acc = historyp3[\"accuracy\"]\n",
        "val_acc = historyp3[\"val_accuracy\"]\n",
        "plt.plot(epochs, acc, \"bo\", label=\"Training acc\")\n",
        "plt.plot(epochs, val_acc, \"b\", label=\"Validation acc\")\n",
        "plt.title(\"Training and validation accuracy\")\n",
        "plt.xlabel(\"Epochs\")\n",
        "plt.ylabel(\"Accuracy\")\n",
        "plt.legend()\n",
        "plt.show()"
      ],
      "execution_count": 49,
      "outputs": [
        {
          "output_type": "display_data",
          "data": {
            "image/png": "[encoded data removed]",
            "text/plain": [
              "<Figure size 432x288 with 1 Axes>"
            ]
          },
          "metadata": {
            "needs_background": "light"
          }
        },
        {
          "output_type": "display_data",
          "data": {
            "image/png": "[encoded data removed]",
            "text/plain": [
              "<Figure size 432x288 with 1 Axes>"
            ]
          },
          "metadata": {
            "needs_background": "light"
          }
        }
      ]
    },
    {
      "cell_type": "markdown",
      "metadata": {
        "id": "PXjKKRSM5-cF"
      },
      "source": [
        "*4.Try using the tanh activation (an activation that was popular in the early days of neural networks) instead of relu.*\n"
      ]
    },
    {
      "cell_type": "code",
      "metadata": {
        "id": "vfZgLVs93s1k"
      },
      "source": [
        "model4 = keras.Sequential([\n",
        "    layers.Dense(16, activation=\"tanh\"),\n",
        "    layers.Dense(16, activation=\"tanh\"),\n",
        "    layers.Dense(1, activation=\"sigmoid\")\n",
        "])"
      ],
      "execution_count": 50,
      "outputs": []
    },
    {
      "cell_type": "code",
      "metadata": {
        "id": "SoWPepNd3sy0"
      },
      "source": [
        "model4.compile(optimizer=\"adam\",\n",
        "              loss=\"mse\",\n",
        "              metrics=[\"accuracy\"])"
      ],
      "execution_count": 51,
      "outputs": []
    },
    {
      "cell_type": "code",
      "metadata": {
        "colab": {
          "base_uri": "https://localhost:8080/"
        },
        "id": "dICqG27h3swE",
        "outputId": "565bf174-69c0-4ae7-fb88-3de80c4793b6"
      },
      "source": [
        "history4 = model4.fit(partial_x_train,\n",
        "                    partial_y_train,\n",
        "                    epochs=20,\n",
        "                    batch_size=512,\n",
        "                    validation_data=(x_val, y_val))"
      ],
      "execution_count": 52,
      "outputs": [
        {
          "output_type": "stream",
          "name": "stdout",
          "text": [
            "Epoch 1/20\n",
            "30/30 [==============================] - 1s 37ms/step - loss: 0.1664 - accuracy: 0.7909 - val_loss: 0.1109 - val_accuracy: 0.8672\n",
            "Epoch 2/20\n",
            "30/30 [==============================] - 1s 30ms/step - loss: 0.0777 - accuracy: 0.9113 - val_loss: 0.0867 - val_accuracy: 0.8876\n",
            "Epoch 3/20\n",
            "30/30 [==============================] - 1s 30ms/step - loss: 0.0508 - accuracy: 0.9438 - val_loss: 0.0835 - val_accuracy: 0.8877\n",
            "Epoch 4/20\n",
            "30/30 [==============================] - 1s 29ms/step - loss: 0.0359 - accuracy: 0.9647 - val_loss: 0.0845 - val_accuracy: 0.8861\n",
            "Epoch 5/20\n",
            "30/30 [==============================] - 1s 29ms/step - loss: 0.0262 - accuracy: 0.9780 - val_loss: 0.0873 - val_accuracy: 0.8814\n",
            "Epoch 6/20\n",
            "30/30 [==============================] - 1s 29ms/step - loss: 0.0194 - accuracy: 0.9851 - val_loss: 0.0908 - val_accuracy: 0.8806\n",
            "Epoch 7/20\n",
            "30/30 [==============================] - 1s 29ms/step - loss: 0.0151 - accuracy: 0.9885 - val_loss: 0.0931 - val_accuracy: 0.8764\n",
            "Epoch 8/20\n",
            "30/30 [==============================] - 1s 31ms/step - loss: 0.0116 - accuracy: 0.9917 - val_loss: 0.0958 - val_accuracy: 0.8767\n",
            "Epoch 9/20\n",
            "30/30 [==============================] - 1s 29ms/step - loss: 0.0094 - accuracy: 0.9933 - val_loss: 0.0980 - val_accuracy: 0.8757\n",
            "Epoch 10/20\n",
            "30/30 [==============================] - 1s 30ms/step - loss: 0.0077 - accuracy: 0.9943 - val_loss: 0.0997 - val_accuracy: 0.8736\n",
            "Epoch 11/20\n",
            "30/30 [==============================] - 1s 28ms/step - loss: 0.0066 - accuracy: 0.9949 - val_loss: 0.1011 - val_accuracy: 0.8723\n",
            "Epoch 12/20\n",
            "30/30 [==============================] - 1s 30ms/step - loss: 0.0058 - accuracy: 0.9954 - val_loss: 0.1027 - val_accuracy: 0.8716\n",
            "Epoch 13/20\n",
            "30/30 [==============================] - 1s 29ms/step - loss: 0.0052 - accuracy: 0.9959 - val_loss: 0.1039 - val_accuracy: 0.8708\n",
            "Epoch 14/20\n",
            "30/30 [==============================] - 1s 30ms/step - loss: 0.0047 - accuracy: 0.9963 - val_loss: 0.1051 - val_accuracy: 0.8709\n",
            "Epoch 15/20\n",
            "30/30 [==============================] - 1s 29ms/step - loss: 0.0044 - accuracy: 0.9963 - val_loss: 0.1059 - val_accuracy: 0.8693\n",
            "Epoch 16/20\n",
            "30/30 [==============================] - 1s 29ms/step - loss: 0.0041 - accuracy: 0.9964 - val_loss: 0.1072 - val_accuracy: 0.8671\n",
            "Epoch 17/20\n",
            "30/30 [==============================] - 1s 30ms/step - loss: 0.0040 - accuracy: 0.9965 - val_loss: 0.1083 - val_accuracy: 0.8665\n",
            "Epoch 18/20\n",
            "30/30 [==============================] - 1s 29ms/step - loss: 0.0037 - accuracy: 0.9967 - val_loss: 0.1082 - val_accuracy: 0.8685\n",
            "Epoch 19/20\n",
            "30/30 [==============================] - 1s 30ms/step - loss: 0.0036 - accuracy: 0.9968 - val_loss: 0.1091 - val_accuracy: 0.8668\n",
            "Epoch 20/20\n",
            "30/30 [==============================] - 1s 28ms/step - loss: 0.0034 - accuracy: 0.9969 - val_loss: 0.1093 - val_accuracy: 0.8674\n"
          ]
        }
      ]
    },
    {
      "cell_type": "markdown",
      "metadata": {
        "id": "CNreKJ9RZr6e"
      },
      "source": [
        "**Ploting:**"
      ]
    },
    {
      "cell_type": "code",
      "metadata": {
        "colab": {
          "base_uri": "https://localhost:8080/",
          "height": 573
        },
        "id": "Xvh6_SB-3sof",
        "outputId": "982eead5-0f7c-4ca5-da18-1ec8923a18f0"
      },
      "source": [
        "historyp4 = history4.history\n",
        "loss_values = historyp4[\"loss\"]\n",
        "val_loss_values = historyp4[\"val_loss\"]\n",
        "epochs = range(1, len(loss_values) + 1)\n",
        "plt.plot(epochs, loss_values, \"bo\", label=\"Training loss\")\n",
        "plt.plot(epochs, val_loss_values, \"b\", label=\"Validation loss\")\n",
        "plt.title(\"Training and validation loss\")\n",
        "plt.xlabel(\"Epochs\")\n",
        "plt.ylabel(\"Loss\")\n",
        "plt.legend()\n",
        "plt.show()\n",
        "\n",
        "\n",
        "plt.clf()\n",
        "acc = historyp4[\"accuracy\"]\n",
        "val_acc = historyp4[\"val_accuracy\"]\n",
        "plt.plot(epochs, acc, \"bo\", label=\"Training acc\")\n",
        "plt.plot(epochs, val_acc, \"b\", label=\"Validation acc\")\n",
        "plt.title(\"Training and validation accuracy\")\n",
        "plt.xlabel(\"Epochs\")\n",
        "plt.ylabel(\"Accuracy\")\n",
        "plt.legend()\n",
        "plt.show()"
      ],
      "execution_count": 53,
      "outputs": [
        {
          "output_type": "display_data",
          "data": {
            "image/png": "[encoded data removed]",
            "text/plain": [
              "<Figure size 432x288 with 1 Axes>"
            ]
          },
          "metadata": {
            "needs_background": "light"
          }
        },
        {
          "output_type": "display_data",
          "data": {
            "image/png": "[encoded data removed]",
            "text/plain": [
              "<Figure size 432x288 with 1 Axes>"
            ]
          },
          "metadata": {
            "needs_background": "light"
          }
        }
      ]
    },
    {
      "cell_type": "markdown",
      "metadata": {
        "id": "dfOM2GeeRka-"
      },
      "source": [
        "*5.Use any technique we studied in class, and these include regularization, dropout, etc., to get your model to perform better on validation.*"
      ]
    },
    {
      "cell_type": "code",
      "metadata": {
        "id": "ji3qNYvGaBbn"
      },
      "source": [
        "model5 = keras.Sequential([\n",
        "    layers.Dense(20, activation=\"relu\"),\n",
        "    layers.Dropout(0.2),\n",
        "    layers.Dense(15, activation=\"relu\"),\n",
        "    layers.Dense(1, activation=\"sigmoid\")\n",
        "])"
      ],
      "execution_count": 83,
      "outputs": []
    },
    {
      "cell_type": "code",
      "metadata": {
        "id": "uEcK57Ok3sg2"
      },
      "source": [
        "model5.compile(optimizer=\"adam\",\n",
        "              loss=\"binary_crossentropy\",\n",
        "              metrics=[\"accuracy\"])"
      ],
      "execution_count": 84,
      "outputs": []
    },
    {
      "cell_type": "code",
      "metadata": {
        "colab": {
          "base_uri": "https://localhost:8080/"
        },
        "id": "OFaUb3CIaAvK",
        "outputId": "e4b8c3cd-180b-43d9-8174-50f581058622"
      },
      "source": [
        "history5 = model5.fit(partial_x_train,\n",
        "                    partial_y_train,\n",
        "                    epochs=20,\n",
        "                    batch_size=512,\n",
        "                    validation_data=(x_val, y_val))"
      ],
      "execution_count": 85,
      "outputs": [
        {
          "output_type": "stream",
          "name": "stdout",
          "text": [
            "Epoch 1/20\n",
            "30/30 [==============================] - 2s 56ms/step - loss: 0.5922 - accuracy: 0.7208 - val_loss: 0.4353 - val_accuracy: 0.8478\n",
            "Epoch 2/20\n",
            "30/30 [==============================] - 1s 36ms/step - loss: 0.3601 - accuracy: 0.8720 - val_loss: 0.3096 - val_accuracy: 0.8806\n",
            "Epoch 3/20\n",
            "30/30 [==============================] - 1s 37ms/step - loss: 0.2473 - accuracy: 0.9164 - val_loss: 0.2783 - val_accuracy: 0.8897\n",
            "Epoch 4/20\n",
            "30/30 [==============================] - 1s 36ms/step - loss: 0.1871 - accuracy: 0.9357 - val_loss: 0.2748 - val_accuracy: 0.8891\n",
            "Epoch 5/20\n",
            "30/30 [==============================] - 1s 37ms/step - loss: 0.1454 - accuracy: 0.9531 - val_loss: 0.2825 - val_accuracy: 0.8865\n",
            "Epoch 6/20\n",
            "30/30 [==============================] - 1s 36ms/step - loss: 0.1139 - accuracy: 0.9666 - val_loss: 0.2966 - val_accuracy: 0.8855\n",
            "Epoch 7/20\n",
            "30/30 [==============================] - 1s 36ms/step - loss: 0.0890 - accuracy: 0.9751 - val_loss: 0.3175 - val_accuracy: 0.8840\n",
            "Epoch 8/20\n",
            "30/30 [==============================] - 1s 36ms/step - loss: 0.0728 - accuracy: 0.9795 - val_loss: 0.3431 - val_accuracy: 0.8806\n",
            "Epoch 9/20\n",
            "30/30 [==============================] - 1s 36ms/step - loss: 0.0571 - accuracy: 0.9855 - val_loss: 0.3698 - val_accuracy: 0.8809\n",
            "Epoch 10/20\n",
            "30/30 [==============================] - 1s 37ms/step - loss: 0.0438 - accuracy: 0.9904 - val_loss: 0.4007 - val_accuracy: 0.8790\n",
            "Epoch 11/20\n",
            "30/30 [==============================] - 1s 36ms/step - loss: 0.0334 - accuracy: 0.9945 - val_loss: 0.4369 - val_accuracy: 0.8787\n",
            "Epoch 12/20\n",
            "30/30 [==============================] - 1s 36ms/step - loss: 0.0264 - accuracy: 0.9959 - val_loss: 0.4721 - val_accuracy: 0.8777\n",
            "Epoch 13/20\n",
            "30/30 [==============================] - 1s 36ms/step - loss: 0.0214 - accuracy: 0.9969 - val_loss: 0.4931 - val_accuracy: 0.8769\n",
            "Epoch 14/20\n",
            "30/30 [==============================] - 1s 36ms/step - loss: 0.0165 - accuracy: 0.9983 - val_loss: 0.5253 - val_accuracy: 0.8753\n",
            "Epoch 15/20\n",
            "30/30 [==============================] - 1s 37ms/step - loss: 0.0140 - accuracy: 0.9984 - val_loss: 0.5426 - val_accuracy: 0.8758\n",
            "Epoch 16/20\n",
            "30/30 [==============================] - 1s 36ms/step - loss: 0.0110 - accuracy: 0.9991 - val_loss: 0.5765 - val_accuracy: 0.8739\n",
            "Epoch 17/20\n",
            "30/30 [==============================] - 1s 36ms/step - loss: 0.0090 - accuracy: 0.9987 - val_loss: 0.5893 - val_accuracy: 0.8746\n",
            "Epoch 18/20\n",
            "30/30 [==============================] - 1s 36ms/step - loss: 0.0083 - accuracy: 0.9993 - val_loss: 0.6166 - val_accuracy: 0.8727\n",
            "Epoch 19/20\n",
            "30/30 [==============================] - 1s 36ms/step - loss: 0.0069 - accuracy: 0.9995 - val_loss: 0.6498 - val_accuracy: 0.8742\n",
            "Epoch 20/20\n",
            "30/30 [==============================] - 1s 36ms/step - loss: 0.0058 - accuracy: 0.9996 - val_loss: 0.6628 - val_accuracy: 0.8742\n"
          ]
        }
      ]
    },
    {
      "cell_type": "markdown",
      "metadata": {
        "id": "S09nos33ajyp"
      },
      "source": [
        "**Ploting:**"
      ]
    },
    {
      "cell_type": "code",
      "metadata": {
        "colab": {
          "base_uri": "https://localhost:8080/",
          "height": 573
        },
        "id": "viahCVjQaA6f",
        "outputId": "794bdb2d-df50-4c47-bf75-e7cb52034a30"
      },
      "source": [
        "historyp5 = history5.history\n",
        "loss_values = historyp5[\"loss\"]\n",
        "val_loss_values = historyp5[\"val_loss\"]\n",
        "epochs = range(1, len(loss_values) + 1)\n",
        "plt.plot(epochs, loss_values, \"bo\", label=\"Training loss\")\n",
        "plt.plot(epochs, val_loss_values, \"b\", label=\"Validation loss\")\n",
        "plt.title(\"Training and validation loss\")\n",
        "plt.xlabel(\"Epochs\")\n",
        "plt.ylabel(\"Loss\")\n",
        "plt.legend()\n",
        "plt.show()\n",
        "\n",
        "\n",
        "plt.clf()\n",
        "acc = historyp5[\"accuracy\"]\n",
        "val_acc = historyp5[\"val_accuracy\"]\n",
        "plt.plot(epochs, acc, \"bo\", label=\"Training acc\")\n",
        "plt.plot(epochs, val_acc, \"b\", label=\"Validation acc\")\n",
        "plt.title(\"Training and validation accuracy\")\n",
        "plt.xlabel(\"Epochs\")\n",
        "plt.ylabel(\"Accuracy\")\n",
        "plt.legend()\n",
        "plt.show()\n"
      ],
      "execution_count": 86,
      "outputs": [
        {
          "output_type": "display_data",
          "data": {
            "image/png": "[encoded data removed]",
            "text/plain": [
              "<Figure size 432x288 with 1 Axes>"
            ]
          },
          "metadata": {
            "needs_background": "light"
          }
        },
        {
          "output_type": "display_data",
          "data": {
            "image/png": "[encoded data removed]",
            "text/plain": [
              "<Figure size 432x288 with 1 Axes>"
            ]
          },
          "metadata": {
            "needs_background": "light"
          }
        }
      ]
    }
  ]
}